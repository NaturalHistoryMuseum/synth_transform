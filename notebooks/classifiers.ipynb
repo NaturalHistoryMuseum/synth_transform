{
 "cells": [
  {
   "cell_type": "markdown",
   "metadata": {},
   "source": [
    "# Broad Topic Classification\n",
    "\n",
    "While some of the research outputs supplied by users could be identified and therefore programmatically classified into the two broad categories of \"Life Sciences\" and \"Earth Sciences\", there were far more that could not be identified. In order to make an estimate of the types of projects being completed, it is necessary to attempt to classify these remaining outputs.\n",
    "\n",
    "This notebook details an attempt to train a Support Vector Machine (SVM) classifier and a Naive Bayes classifier in order to categorise the outputs based on their titles."
   ]
  },
  {
   "cell_type": "code",
   "execution_count": 1,
   "metadata": {},
   "outputs": [],
   "source": [
    "%matplotlib inline\n",
    "import sqlitedict"
   ]
  },
  {
   "cell_type": "markdown",
   "metadata": {},
   "source": [
    "## Training data"
   ]
  },
  {
   "cell_type": "markdown",
   "metadata": {},
   "source": [
    "Get a list of journals represented by the identified outputs:"
   ]
  },
  {
   "cell_type": "code",
   "execution_count": 2,
   "metadata": {},
   "outputs": [
    {
     "name": "stdout",
     "output_type": "stream",
     "text": [
      "0165-0009\n",
      "0003-4541\n",
      "0930-0708\n"
     ]
    }
   ],
   "source": [
    "metadata = sqlitedict.SqliteDict('../synth/data/doi_metadata.db')\n",
    "journal_list = []\n",
    "for k, v in metadata.items():\n",
    "    issn = v.get('ISSN', [])\n",
    "    journal_list += issn\n",
    "journal_list = list(set(journal_list))\n",
    "\n",
    "for j in journal_list[:3]:\n",
    "    print(j)"
   ]
  },
  {
   "cell_type": "markdown",
   "metadata": {},
   "source": [
    "Scrape the ASJC data from this page: https://service.elsevier.com/app/answers/detail/a_id/15181/supporthub/scopus"
   ]
  },
  {
   "cell_type": "code",
   "execution_count": 3,
   "metadata": {},
   "outputs": [
    {
     "name": "stdout",
     "output_type": "stream",
     "text": [
      "('1000', 'Multidisciplinary', 'Multidisciplinary')\n",
      "('1100', 'General Agricultural and Biological Sciences', 'Life Sciences')\n",
      "('1101', 'Agricultural and Biological Sciences (miscellaneous)', 'Life Sciences')\n",
      "('1000', 'Multidisciplinary')\n",
      "('1100', 'Life Sciences')\n",
      "('1101', 'Life Sciences')\n"
     ]
    }
   ],
   "source": [
    "from bs4 import BeautifulSoup\n",
    "import requests\n",
    "\n",
    "response = requests.get('https://service.elsevier.com/app/answers/detail/a_id/15181/supporthub/scopus')\n",
    "page = BeautifulSoup(response.content)\n",
    "table_rows = page.find('table').find_all('tr')[1:]\n",
    "all_asjc = [tuple([cell.text for cell in row.find_all('td')]) for row in table_rows]\n",
    "asjc = {x[0]: x[2] for x in all_asjc}\n",
    "\n",
    "for x in all_asjc[:3]:\n",
    "    print(x)\n",
    "\n",
    "for x in list(asjc.items())[:3]:\n",
    "    print(x)"
   ]
  },
  {
   "cell_type": "markdown",
   "metadata": {},
   "source": [
    "Categorise each journal based on the subjects it's tagged with on CrossRef."
   ]
  },
  {
   "cell_type": "code",
   "execution_count": 4,
   "metadata": {},
   "outputs": [
    {
     "name": "stdout",
     "output_type": "stream",
     "text": [
      "479\n",
      "177\n",
      "45\n"
     ]
    }
   ],
   "source": [
    "from crossref.restful import Etiquette, Journals\n",
    "from collections import Counter\n",
    "import json\n",
    "import os\n",
    "\n",
    "# multithreading speeds the download process up\n",
    "from concurrent.futures import ThreadPoolExecutor\n",
    "from tqdm.contrib.concurrent import thread_map\n",
    "\n",
    "etiquette = Etiquette('SYNTH transform', '0.1', 'https://github.com/NaturalHistoryMuseum/synth_transform',\n",
    "                      'data@nhm.ac.uk')\n",
    "journal_api = Journals(etiquette=etiquette)\n",
    "\n",
    "if os.path.exists('journals.json'):\n",
    "    with open('journals.json', 'r') as f:\n",
    "        all_issns = json.load(f)\n",
    "else:\n",
    "    all_issns = []\n",
    "\n",
    "    def get_journal(issn):\n",
    "        journal = journal_api.journal(issn)\n",
    "        if journal is None:\n",
    "            return\n",
    "        subjects = journal.get('subjects', [])\n",
    "        top_level_subjects = Counter([asjc.get(str(s['ASJC'])) for s in subjects])\n",
    "\n",
    "        # for each category, make sure there's no overlap between subjects\n",
    "        if top_level_subjects['Life Sciences'] > 0 and top_level_subjects['Physical Sciences'] == 0:\n",
    "            all_issns.append((issn, 'life'))\n",
    "        elif top_level_subjects['Physical Sciences'] > 0 and top_level_subjects['Life Sciences'] == 0:\n",
    "            all_issns.append((issn, 'earth'))\n",
    "        elif len(top_level_subjects) > 0 and top_level_subjects['Life Sciences'] == 0 and top_level_subjects['Physical Sciences'] == 0:\n",
    "            all_issns.append((issn, 'other'))\n",
    "\n",
    "    with ThreadPoolExecutor(10) as thread_executor:\n",
    "        thread_map(get_journal, journal_list)\n",
    "        \n",
    "    with open('journals.json', 'w') as f:\n",
    "        json.dump(all_issns, f)\n",
    "        \n",
    "print(len([j for j in all_issns if j[1] == 'life']))\n",
    "print(len([j for j in all_issns if j[1] == 'earth']))\n",
    "print(len([j for j in all_issns if j[1] == 'other']))"
   ]
  },
  {
   "cell_type": "markdown",
   "metadata": {},
   "source": [
    "Get a sample of articles from each journal, attempting to ignore irrelevant results such as front/back matter, tables of contents, etc.\n",
    "\n",
    "Since the \"other\" category is so small and encompasses a much greater variety of topics, the accuracy of the classifier is unlikely to be acceptable for this category. For the sake of simplicity, this category will be ignored."
   ]
  },
  {
   "cell_type": "code",
   "execution_count": 5,
   "metadata": {},
   "outputs": [],
   "source": [
    "import os\n",
    "import re\n",
    "\n",
    "all_issns = [j for j in all_issns if j[1] != 'other']\n",
    "\n",
    "if os.path.exists('titles.json'):\n",
    "    # load from json file if possible because downloading new results will take quite a while\n",
    "    with open('titles.json', 'r') as f:\n",
    "        work_titles = json.load(f)\n",
    "else:\n",
    "    work_titles = {\n",
    "        'earth': [],\n",
    "        'life': []\n",
    "    }\n",
    "    \n",
    "    ignore = [re.compile(i) for i in \n",
    "              ['(front|back) matter',\n",
    "               'special issue',\n",
    "               'price\\W',\n",
    "               '(volume|issue) \\d']\n",
    "             ]\n",
    "    \n",
    "    def iter_works(issn, add_to):\n",
    "        for attempt in range(3):\n",
    "            try:\n",
    "                works = list(journal_api.works(issn).sample(100))\n",
    "                break\n",
    "            except json.decoder.JSONDecodeError:\n",
    "                works = []\n",
    "                continue\n",
    "        for work in works:\n",
    "            title = work.get('title')\n",
    "            if title is None or len(title) == 0:\n",
    "                continue\n",
    "            title = title[0].lower()\n",
    "            if len(title.split(' ')) < 5:\n",
    "                # ignore it if it has fewer than 5 words in the title - these are usually not articles\n",
    "                continue\n",
    "            if any([rgx.search(title) is not None for rgx in ignore]):\n",
    "                continue\n",
    "            work_titles[add_to].append(title)\n",
    "        \n",
    "    \n",
    "    with ThreadPoolExecutor(10) as thread_executor:\n",
    "        thread_map(lambda x: iter_works(*x), all_issns)\n",
    "        \n",
    "    with open('titles.json', 'w') as f:\n",
    "        json.dump(work_titles, f)\n"
   ]
  },
  {
   "cell_type": "markdown",
   "metadata": {},
   "source": [
    "Transform the titles into data that can be used to train the classifier by:\n",
    "1. removing punctuation (except hyphens);\n",
    "2. discarding words that aren't nouns or adjectives;\n",
    "3. stemming words so that e.g. \"geology\" and \"geological\" are both counted as the same word;\n",
    "4. discarding the most frequent words."
   ]
  },
  {
   "cell_type": "code",
   "execution_count": 6,
   "metadata": {},
   "outputs": [
    {
     "name": "stdout",
     "output_type": "stream",
     "text": [
      "                                                    text  label\n",
      "3118                                   role tethi region  earth\n",
      "43523  contribut knowledg australiandicranolaiuschampion   life\n",
      "29879   low genet variabl south eastern sever bottleneck   life\n",
      "43706                                                gel   life\n",
      "19099                                               pick   life\n"
     ]
    }
   ],
   "source": [
    "import pandas as pd\n",
    "from nltk.stem.porter import PorterStemmer\n",
    "import spacy\n",
    "\n",
    "nlp = spacy.load('en_core_web_sm', disable=['ner', 'parser'])\n",
    "stemmer = PorterStemmer()\n",
    "\n",
    "no_punct_rgx = re.compile(r'[^a-z- ]')\n",
    "en_em_dash_rgx = re.compile(r'\\s-\\s')\n",
    "\n",
    "def get_tokens(txt, add_to):\n",
    "    txt = no_punct_rgx.sub(' ', txt.lower())\n",
    "    txt = en_em_dash_rgx.sub(' ', txt)\n",
    "    doc = nlp(txt)\n",
    "    tokens = [stemmer.stem(token.text) for token in doc if\n",
    "              token.pos_ in ['NOUN', 'ADJ'] and len(token.lemma_) > 1]\n",
    "    add_to.append(tokens)\n",
    "\n",
    "\n",
    "if os.path.exists('training_data.csv'):\n",
    "    # again, read from a file if available because this might take a while\n",
    "    df = pd.read_csv('training_data.csv', index_col=0)\n",
    "else:\n",
    "    def process_texts(texts):\n",
    "        token_lists = []\n",
    "\n",
    "        with ThreadPoolExecutor(10) as thread_executor:\n",
    "            thread_map(lambda x: get_tokens(x, token_lists), texts)\n",
    "\n",
    "        all_tokens = [t for sublist in token_lists for t in set(sublist)]\n",
    "        most_common = [k for k, v in sorted(Counter(all_tokens).items(), key=lambda x: -x[1])][:20]\n",
    "        print(most_common)\n",
    "\n",
    "        output = [' '.join([token for token in doc if token not in most_common]) for doc in token_lists]\n",
    "\n",
    "        return output\n",
    "\n",
    "\n",
    "    # transform the data into (title, label) tuples\n",
    "    data = [(x, k) for k, v in work_titles.items() for x in v]\n",
    "    df = pd.DataFrame(data, columns=['text', 'label'])\n",
    "    df.text = process_texts(df.text)\n",
    "    df = df.where(df != '').dropna(axis=0)\n",
    "    min_rows = min(df[df.label == 'earth'].shape[0], df[df.label == 'life'].shape[0])\n",
    "    df = pd.concat([df[df.label == 'earth'].sample(min_rows),\n",
    "                    df[df.label == 'life'].sample(min_rows)])\n",
    "    df.to_csv('training_data.csv')\n",
    "    \n",
    "print(df.sample(5))"
   ]
  },
  {
   "cell_type": "markdown",
   "metadata": {},
   "source": [
    "Split the data into a training group and a testing group."
   ]
  },
  {
   "cell_type": "code",
   "execution_count": 7,
   "metadata": {},
   "outputs": [],
   "source": [
    "from sklearn.model_selection import train_test_split\n",
    "\n",
    "if os.path.exists('train_split.csv') and os.path.exists('test_split.csv'):\n",
    "    training_data = pd.read_csv('train_split.csv', index_col=0)\n",
    "    test_data = pd.read_csv('test_split.csv', index_col=0)\n",
    "else:\n",
    "    training_data, test_data = train_test_split(df, test_size=0.2, stratify=df.label, random_state=123)\n",
    "    training_data.to_csv('train_split.csv')\n",
    "    test_data.to_csv('test_split.csv')"
   ]
  },
  {
   "cell_type": "markdown",
   "metadata": {},
   "source": [
    "## Training the classifier\n",
    "\n",
    "Create a vectoriser to get a numerical representation of the text."
   ]
  },
  {
   "cell_type": "code",
   "execution_count": 8,
   "metadata": {},
   "outputs": [
    {
     "name": "stdout",
     "output_type": "stream",
     "text": [
      "  (0, 5610)\t0.3345529603556887\n",
      "  (0, 5038)\t0.2967042192386826\n",
      "  (0, 4931)\t0.27332180467587464\n",
      "  (0, 4604)\t0.31698617006567686\n",
      "  (0, 4504)\t0.3874448101162035\n",
      "  (0, 2710)\t0.291649421572918\n",
      "  (0, 1945)\t0.280851235425778\n",
      "  (0, 1342)\t0.42581872911990387\n",
      "  (0, 264)\t0.3598388661328168\n"
     ]
    }
   ],
   "source": [
    "from sklearn.feature_extraction.text import TfidfVectorizer\n",
    "import pickle\n",
    "\n",
    "if os.path.exists('vectoriser.pkl'):\n",
    "    with open('vectoriser.pkl', 'rb') as f:\n",
    "        vectoriser = pickle.load(f)\n",
    "else:\n",
    "    vectoriser = TfidfVectorizer(max_df=0.95, min_df=2, max_features=6000)\n",
    "    vectoriser.fit(training_data.text)\n",
    "    with open('vectoriser.pkl', 'wb') as f:\n",
    "        pickle.dump(vectoriser, f)\n",
    "\n",
    "features = vectoriser.transform(training_data.text)\n",
    "\n",
    "print(features[0])"
   ]
  },
  {
   "cell_type": "markdown",
   "metadata": {},
   "source": [
    "Use those features to train a Support Vector Machine (SVM) classifier."
   ]
  },
  {
   "cell_type": "code",
   "execution_count": 9,
   "metadata": {},
   "outputs": [
    {
     "name": "stdout",
     "output_type": "stream",
     "text": [
      "Accuracy: 86.51%\n",
      "              precision    recall  f1-score   support\n",
      "\n",
      "       earth       0.88      0.84      0.86      3102\n",
      "        life       0.85      0.89      0.87      3102\n",
      "\n",
      "    accuracy                           0.87      6204\n",
      "   macro avg       0.87      0.87      0.87      6204\n",
      "weighted avg       0.87      0.87      0.87      6204\n",
      "\n",
      "[[2610  492]\n",
      " [ 345 2757]]\n"
     ]
    }
   ],
   "source": [
    "from sklearn.svm import SVC\n",
    "from sklearn.metrics import classification_report, accuracy_score, confusion_matrix\n",
    "from datetime import datetime as dt\n",
    "\n",
    "if os.path.exists('svc.model'):\n",
    "    with open('svc.model', 'rb') as f:\n",
    "        svc_classifier = pickle.load(f)\n",
    "else:\n",
    "    # enabling probability calculations takes a lot longer, but allows for more specific margins of error\n",
    "    svc_classifier = SVC(class_weight='balanced', probability=True)\n",
    "    print('Fitting SVC...')\n",
    "    start = dt.now()\n",
    "    svc_classifier.fit(features, training_data.label)\n",
    "    print(f'Done ({round((dt.now() - start).total_seconds())}s)')\n",
    "    with open('svc.model', 'wb') as f:\n",
    "        pickle.dump(svc_classifier, f)\n",
    "\n",
    "svc_predicted = svc_classifier.predict(vectoriser.transform(test_data.text))\n",
    "print(f'Accuracy: {round(accuracy_score(test_data.label, svc_predicted) * 100, 2)}%')\n",
    "print(classification_report(test_data.label, svc_predicted))\n",
    "print(confusion_matrix(test_data.label, svc_predicted))"
   ]
  },
  {
   "cell_type": "markdown",
   "metadata": {},
   "source": [
    "## Predictions\n",
    "\n",
    "Use the trained classifier to estimate the broad category of titles in the database.\n",
    "\n",
    "First, retrieve the list of research output titles."
   ]
  },
  {
   "cell_type": "code",
   "execution_count": 10,
   "metadata": {},
   "outputs": [
    {
     "name": "stdout",
     "output_type": "stream",
     "text": [
      "Molecular phylogeny within true bugs (Hemiptera: Miridae).\n",
      "Gene-flow solid frozen - the roles of intrinsic and extrinsic factors on microevolution of Antarctic shelf fishes\n",
      "Age and rate of speciation in the adaptive radiation of antarctic fishes (Trematominae)\n",
      "Did glacial advances during the Pleistocene influence differently the demographic histories of benthic and pelagic Antarctic shelf fishes? – Inferences from intraspecific mitochondrial and nuclear DNA sequence diversity\n",
      "Contribution to the Pupae of the Western Palearctic Tiger Moths (Lepidoptera, Noctuoidea, Arctiidae).\n"
     ]
    }
   ],
   "source": [
    "from synth.model.analysis import Output\n",
    "from synth.utils import Config, Context\n",
    "import yaml\n",
    "from sqlalchemy.orm import sessionmaker\n",
    "\n",
    "with open('../config.yml', 'r') as f:\n",
    "    config = Config(**yaml.safe_load(f))\n",
    "\n",
    "context = Context(config)\n",
    "session = sessionmaker(bind=context.target_engine)()\n",
    "\n",
    "titles = [t[0] for t in session.query(Output.title).filter(Output.title.isnot(None)).all()]\n",
    "\n",
    "for t in titles[:5]:\n",
    "    print(t)"
   ]
  },
  {
   "cell_type": "markdown",
   "metadata": {},
   "source": [
    "Transform each title into the same format as the training dataset; i.e. lowercase, no punctuation, nouns and adjectives only, etc."
   ]
  },
  {
   "cell_type": "code",
   "execution_count": 11,
   "metadata": {},
   "outputs": [
    {
     "data": {
      "application/vnd.jupyter.widget-view+json": {
       "model_id": "451c7b099df449f3a5ef61a85320d28a",
       "version_major": 2,
       "version_minor": 0
      },
      "text/plain": [
       "HBox(children=(HTML(value=''), FloatProgress(value=0.0, max=9594.0), HTML(value='')))"
      ]
     },
     "metadata": {},
     "output_type": "display_data"
    },
    {
     "name": "stdout",
     "output_type": "stream",
     "text": [
      "\n",
      "gene flow solid role intrins extrins factor microevolut antarct shelf fish\n",
      "true bug\n",
      "contribut pupa western palearct moth noctuoidea\n",
      "contribut descript pupa western noctuida\n",
      "\n"
     ]
    }
   ],
   "source": [
    "processed_titles = []\n",
    "\n",
    "with ThreadPoolExecutor(10) as thread_executor:\n",
    "    thread_map(lambda x: get_tokens(x, processed_titles), titles)\n",
    "\n",
    "# results are returned as lists of tokens, so these need to be joined back together\n",
    "processed_titles = [' '.join(t) for t in processed_titles]\n",
    "    \n",
    "for t in processed_titles[:5]:\n",
    "    print(t)"
   ]
  },
  {
   "cell_type": "markdown",
   "metadata": {},
   "source": [
    "Vectorise the titles and predict the category for each."
   ]
  },
  {
   "cell_type": "code",
   "execution_count": 12,
   "metadata": {},
   "outputs": [
    {
     "name": "stdout",
     "output_type": "stream",
     "text": [
      "life     6878\n",
      "earth    2716\n",
      "Name: Category, dtype: int64\n"
     ]
    }
   ],
   "source": [
    "transformed_titles = vectoriser.transform(processed_titles)\n",
    "predictions = pd.Series(svc_classifier.predict(transformed_titles), name='Category')\n",
    "\n",
    "print(predictions.value_counts())"
   ]
  },
  {
   "cell_type": "markdown",
   "metadata": {},
   "source": [
    "The certainty of each match can also be calculated."
   ]
  },
  {
   "cell_type": "code",
   "execution_count": 13,
   "metadata": {},
   "outputs": [
    {
     "name": "stdout",
     "output_type": "stream",
     "text": [
      "EARTH:\n",
      "                                                  Title Category  Probability\n",
      "2819  Asiorrhina, a new Oriental genus of Lygistorrh...    earth     0.940966\n",
      "4171  A redefinition of Misumenops F.O. Pickard-Camb...    earth     0.565371\n",
      "3480  DNA extraction from formalin-fixed tissue: new...    earth     0.999315\n",
      "7012  The Portalón at Cueva Mayor (Sierra de Atapuer...    earth     0.994256\n",
      "2535  Die Evolution intrauteriner Ernährung bei Vert...    earth     0.989842\n",
      "288   Tiphotrephes immaculatus sp.n. (Heteroptera: H...    earth     0.942700\n",
      "7557  Revision of the attaphilous genus Phoxonotus (...    earth     0.891048\n",
      "5449  The lumbar vertebrae of the Middle Miocene ste...    earth     0.805691\n",
      "4493  Three times out of Asia Minor: the phylogeogra...    earth     0.600470\n",
      "7175  Nacre and other shell microstructures in the O...    earth     0.953364\n",
      "\n",
      "\n",
      "LIFE:\n",
      "                                                  Title Category  Probability\n",
      "6829  RECENT OBSERVATIONS ON OPHRYS SPECIES AND HYBR...     life     0.819526\n",
      "8896  A review of the Pattonomys/Toromys clade (Rode...     life     0.984389\n",
      "4865  Las Hepáticas (Marchantiophyta) del Departamen...     life     0.817155\n",
      "5403  Afromeconema felicis new genus and new species...     life     0.890036\n",
      "5274  Hair and fur Atlas of Viverridae, Herpestidae ...     life     0.954825\n",
      "2055  Hibernation places and behavior of the some we...     life     0.938198\n",
      "4425  Phylogenetic relationships and morphological d...     life     0.992528\n",
      "1919  The first comprehensive molecular phylogeny re...     life     0.878544\n",
      "3462  Morphology, physiology, molecular phylogeny an...     life     0.797233\n",
      "3316  Morphological comparison of bleaks (Alburnus, ...     life     0.817563\n"
     ]
    }
   ],
   "source": [
    "prediction_probabilities = svc_classifier.predict_proba(transformed_titles)\n",
    "\n",
    "category_probability = pd.concat(\n",
    "    [pd.Series(titles, name='Title'),\n",
    "     predictions,\n",
    "     pd.Series(prediction_probabilities.max(axis=1), name='Probability')], axis=1)\n",
    "\n",
    "print('EARTH:')\n",
    "print(category_probability[category_probability.Category=='earth'].sample(10))\n",
    "print('\\n')\n",
    "print('LIFE:')\n",
    "print(category_probability[category_probability.Category=='life'].sample(10))"
   ]
  },
  {
   "cell_type": "code",
   "execution_count": 14,
   "metadata": {},
   "outputs": [
    {
     "data": {
      "image/png": "[encoded data removed]",
      "text/plain": [
       "<Figure size 720x432 with 1 Axes>"
      ]
     },
     "metadata": {},
     "output_type": "display_data"
    }
   ],
   "source": [
    "from matplotlib import pyplot as plt\n",
    "import seaborn as sns\n",
    "\n",
    "sns.set_theme(style=\"ticks\")\n",
    "\n",
    "fig, ax = plt.subplots(figsize=(10, 6))\n",
    "sns.boxplot(x='Probability', y='Category', data=category_probability, palette='pastel', fliersize=0)\n",
    "sns.stripplot(x='Probability', y='Category', data=category_probability, alpha=0.2, zorder=1)\n",
    "\n",
    "ax.xaxis.grid(True)\n",
    "ax.set(ylabel=\"\")\n",
    "sns.despine(trim=True, left=True)\n",
    "\n",
    "plt.show()"
   ]
  }
 ],
 "metadata": {
  "kernelspec": {
   "display_name": "Python 3",
   "language": "python",
   "name": "python3"
  },
  "language_info": {
   "codemirror_mode": {
    "name": "ipython",
    "version": 3
   },
   "file_extension": ".py",
   "mimetype": "text/x-python",
   "name": "python",
   "nbconvert_exporter": "python",
   "pygments_lexer": "ipython3",
   "version": "3.8.6"
  }
 },
 "nbformat": 4,
 "nbformat_minor": 4
}
