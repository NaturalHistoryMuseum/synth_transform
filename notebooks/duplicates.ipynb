{
 "cells": [
  {
   "cell_type": "markdown",
   "metadata": {},
   "source": [
    "# Duplicate outputs"
   ]
  },
  {
   "cell_type": "markdown",
   "metadata": {},
   "source": [
    "Some outputs have been recorded multiple times; sometimes within the same SYNTH round and sometimes in separate rounds. This notebook briefly analyses these duplicates.\n",
    "\n",
    "NB: if re-running this, the Outputs table should be _filled_ but not _cleaned_."
   ]
  },
  {
   "cell_type": "markdown",
   "metadata": {},
   "source": [
    "## Loading"
   ]
  },
  {
   "cell_type": "code",
   "execution_count": 1,
   "metadata": {
    "pycharm": {
     "name": "#%%\n"
    }
   },
   "outputs": [],
   "source": [
    "import itertools\n",
    "import json\n",
    "from collections import Counter\n",
    "\n",
    "import sqlitedict\n",
    "import yaml\n",
    "from sqlalchemy.orm import sessionmaker\n",
    "\n",
    "from synth.model.analysis import Output\n",
    "from synth.utils import Config, Context, clean_string"
   ]
  },
  {
   "cell_type": "markdown",
   "metadata": {},
   "source": [
    "Create a connection to the MySQL database:"
   ]
  },
  {
   "cell_type": "code",
   "execution_count": 2,
   "metadata": {},
   "outputs": [],
   "source": [
    "with open('../config.yml', 'r') as f:\n",
    "    config = Config(**yaml.safe_load(f))\n",
    "\n",
    "context = Context(config)\n",
    "db = sessionmaker(bind=context.target_engine)()"
   ]
  },
  {
   "cell_type": "markdown",
   "metadata": {},
   "source": [
    "Load the DOI and metadata resources:"
   ]
  },
  {
   "cell_type": "code",
   "execution_count": 3,
   "metadata": {},
   "outputs": [],
   "source": [
    "metadata = sqlitedict.SqliteDict('../synth/data/doi_metadata.db')\n",
    "cache = sqlitedict.SqliteDict('../synth/data/output_dois.db')"
   ]
  },
  {
   "cell_type": "markdown",
   "metadata": {},
   "source": [
    "Load a JSON dump of \"old\" (i.e. in the separate SYNTH NHMOutputs tables) IDs mapped to \"new\" (i.e. in the combined Outputs table) IDs. _This should be recreated if the table is regenerated._"
   ]
  },
  {
   "cell_type": "code",
   "execution_count": 4,
   "metadata": {},
   "outputs": [],
   "source": [
    "with open('mappings.json', 'r') as f:\n",
    "    mappings = json.load(f)\n",
    "    mappings = {tuple(json.loads(k)): v for k, v in mappings.items()}"
   ]
  },
  {
   "cell_type": "markdown",
   "metadata": {},
   "source": [
    "## Processing"
   ]
  },
  {
   "cell_type": "code",
   "execution_count": 5,
   "metadata": {},
   "outputs": [],
   "source": [
    "by_doi = {k: [tuple(json.loads(x[0])) for x in v] for k, v in\n",
    "          itertools.groupby(sorted(cache.items(), key=lambda x: x[1]), key=lambda x: x[1])}\n",
    "duplicated_dois = {k: v for k, v in by_doi.items() if len(v) > 1}\n",
    "duplicated_records = set([item for k, v in duplicated_dois.items() for item in v])"
   ]
  },
  {
   "cell_type": "code",
   "execution_count": 6,
   "metadata": {},
   "outputs": [
    {
     "data": {
      "text/plain": [
       "426"
      ]
     },
     "execution_count": 6,
     "metadata": {},
     "output_type": "execute_result"
    }
   ],
   "source": [
    "len(duplicated_dois)"
   ]
  },
  {
   "cell_type": "code",
   "execution_count": 7,
   "metadata": {},
   "outputs": [
    {
     "data": {
      "text/plain": [
       "936"
      ]
     },
     "execution_count": 7,
     "metadata": {},
     "output_type": "execute_result"
    }
   ],
   "source": [
    "len(duplicated_records)"
   ]
  },
  {
   "cell_type": "code",
   "execution_count": 8,
   "metadata": {},
   "outputs": [
    {
     "name": "stdout",
     "output_type": "stream",
     "text": [
      "2 records:\n",
      "\t1 rounds; 1 titles x 62\n",
      "\t1 rounds; 2 titles x 114\n",
      "\t2 rounds; 1 titles x 96\n",
      "\t2 rounds; 2 titles x 89\n",
      "3 records:\n",
      "\t1 rounds; 1 titles x 2\n",
      "\t1 rounds; 2 titles x 9\n",
      "\t1 rounds; 3 titles x 10\n",
      "\t2 rounds; 1 titles x 2\n",
      "\t2 rounds; 2 titles x 11\n",
      "\t2 rounds; 3 titles x 5\n",
      "\t3 rounds; 1 titles x 6\n",
      "\t3 rounds; 2 titles x 2\n",
      "\t3 rounds; 3 titles x 5\n",
      "4 records:\n",
      "\t1 rounds; 1 titles x 1\n",
      "\t1 rounds; 4 titles x 1\n",
      "\t2 rounds; 2 titles x 3\n",
      "\t2 rounds; 3 titles x 1\n",
      "\t2 rounds; 4 titles x 1\n",
      "\t3 rounds; 2 titles x 1\n",
      "\t3 rounds; 3 titles x 1\n",
      "5 records:\n",
      "\t1 rounds; 4 titles x 1\n",
      "\t2 rounds; 2 titles x 1\n",
      "6 records:\n",
      "\t2 rounds; 2 titles x 1\n",
      "\t3 rounds; 6 titles x 1\n"
     ]
    }
   ],
   "source": [
    "duplicates = []\n",
    "for k, v in duplicated_dois.items():\n",
    "    titles = set()\n",
    "    rounds = set()\n",
    "    for output_key in v:\n",
    "        output_id = mappings.get(output_key)\n",
    "        o = db.query(Output).get(output_id)\n",
    "        output_title = o.title or ''\n",
    "        output_title = clean_string(output_title)\n",
    "        titles.add(output_title)\n",
    "        rounds.add(output_key[0])\n",
    "    duplicates.append((len(v), len(rounds), len(titles)))\n",
    "\n",
    "duplicates = {k: Counter([f'{x[1]} rounds; {x[2]} titles' for x in v]) for k, v in itertools.groupby(sorted(duplicates), key=lambda x: x[0])}\n",
    "\n",
    "for k, v in duplicates.items():\n",
    "    print(f'{k} records:')\n",
    "    for vk, vv in v.items():\n",
    "        print(f'\\t{vk} x {vv}')\n"
   ]
  }
 ],
 "metadata": {
  "kernelspec": {
   "display_name": "Python 3",
   "language": "python",
   "name": "python3"
  },
  "language_info": {
   "codemirror_mode": {
    "name": "ipython",
    "version": 3
   },
   "file_extension": ".py",
   "mimetype": "text/x-python",
   "name": "python",
   "nbconvert_exporter": "python",
   "pygments_lexer": "ipython3",
   "version": "3.8.6"
  }
 },
 "nbformat": 4,
 "nbformat_minor": 1
}
